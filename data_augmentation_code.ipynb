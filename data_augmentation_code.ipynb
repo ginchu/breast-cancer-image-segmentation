{
 "cells": [
  {
   "cell_type": "code",
   "execution_count": 61,
   "id": "622159fb",
   "metadata": {},
   "outputs": [],
   "source": [
    "# importing the libraries\n",
    "\n",
    "import pandas as pd\n",
    "import numpy as np\n",
    "from skimage.io import imread, imsave\n",
    "from tqdm import tqdm\n",
    "import matplotlib.pyplot as plt\n",
    "%matplotlib inline\n",
    "\n",
    "from sklearn.model_selection import train_test_split\n",
    "from sklearn.metrics import accuracy_score\n",
    "\n",
    "from skimage.transform import rotate\n",
    "from skimage.util import random_noise\n",
    "from skimage.filters import gaussian\n",
    "from scipy import ndimage\n",
    "import warnings\n",
    "import numpy as np\n",
    "import skimage.io as io\n",
    "from skimage.transform import rotate, AffineTransform, warp\n",
    "from skimage.util import random_noise\n",
    "from skimage.filters import gaussian\n",
    "import matplotlib.pyplot as plt"
   ]
  },
  {
   "cell_type": "code",
   "execution_count": 127,
   "id": "f3fe7151",
   "metadata": {},
   "outputs": [
    {
     "data": {
      "text/html": [
       "<div>\n",
       "<style scoped>\n",
       "    .dataframe tbody tr th:only-of-type {\n",
       "        vertical-align: middle;\n",
       "    }\n",
       "\n",
       "    .dataframe tbody tr th {\n",
       "        vertical-align: top;\n",
       "    }\n",
       "\n",
       "    .dataframe thead th {\n",
       "        text-align: right;\n",
       "    }\n",
       "</style>\n",
       "<table border=\"1\" class=\"dataframe\">\n",
       "  <thead>\n",
       "    <tr style=\"text-align: right;\">\n",
       "      <th></th>\n",
       "      <th>Name</th>\n",
       "    </tr>\n",
       "  </thead>\n",
       "  <tbody>\n",
       "    <tr>\n",
       "      <th>0</th>\n",
       "      <td>11_1.png</td>\n",
       "    </tr>\n",
       "    <tr>\n",
       "      <th>1</th>\n",
       "      <td>11_2.png</td>\n",
       "    </tr>\n",
       "    <tr>\n",
       "      <th>2</th>\n",
       "      <td>11_3.png</td>\n",
       "    </tr>\n",
       "  </tbody>\n",
       "</table>\n",
       "</div>"
      ],
      "text/plain": [
       "       Name\n",
       "0  11_1.png\n",
       "1  11_2.png\n",
       "2  11_3.png"
      ]
     },
     "execution_count": 127,
     "metadata": {},
     "output_type": "execute_result"
    }
   ],
   "source": [
    "# loading dataset\n",
    "data = pd.read_csv('/users/ananyabarthakur/Desktop/images11.csv')\n",
    "data.head()"
   ]
  },
  {
   "cell_type": "code",
   "execution_count": 128,
   "id": "ea94217c",
   "metadata": {},
   "outputs": [
    {
     "name": "stderr",
     "output_type": "stream",
     "text": [
      "100%|█████████████████████████████████████████████| 3/3 [00:00<00:00, 21.19it/s]\n"
     ]
    },
    {
     "data": {
      "text/plain": [
       "((3, 512, 512, 4), (3, 512, 512))"
      ]
     },
     "execution_count": 128,
     "metadata": {},
     "output_type": "execute_result"
    }
   ],
   "source": [
    "# loading images\n",
    "train_imgs = []\n",
    "target_imgs = []\n",
    "for img_name in tqdm(data['Name']):\n",
    "    train_image_path = './TNBC_NucleiSegmentation/Slide_11/' + img_name\n",
    "    train_img = imread(train_image_path)\n",
    "    train_img = train_img/255\n",
    "    train_imgs.append(train_img)\n",
    "\n",
    "    target_image_path = './TNBC_NucleiSegmentation/GT_11/' + img_name\n",
    "    target_img = imread(target_image_path)\n",
    "    target_img = target_img/255\n",
    "    target_imgs.append(target_img)\n",
    "\n",
    "train_x = np.array(train_imgs)\n",
    "train_y = np.array(target_imgs)\n",
    "train_x.shape, train_y.shape"
   ]
  },
  {
   "cell_type": "code",
   "execution_count": 129,
   "id": "de5a4e62",
   "metadata": {},
   "outputs": [
    {
     "name": "stderr",
     "output_type": "stream",
     "text": [
      "100%|█████████████████████████████████████████████| 3/3 [00:00<00:00,  6.51it/s]\n"
     ]
    }
   ],
   "source": [
    "final_train_data = []\n",
    "final_target_train = []\n",
    "for i in tqdm(range(train_x.shape[0])):\n",
    "    final_train_data.append(train_x[i])\n",
    "    final_train_data.append(rotate(train_x[i], angle=45, mode = 'wrap'))\n",
    "    final_train_data.append(np.fliplr(train_x[i]))\n",
    "    final_train_data.append(np.flipud(train_x[i]))\n",
    "    final_train_data.append(random_noise(train_x[i],var=0.2**2))\n",
    "    \n",
    "    final_target_train.append(train_y[i])\n",
    "    final_target_train.append(rotate(train_y[i], angle=45, mode = 'wrap'))\n",
    "    final_target_train.append(np.fliplr(train_y[i]))\n",
    "    final_target_train.append(np.flipud(train_y[i]))\n",
    "    final_target_train.append(random_noise(train_y[i],var=0.2**2))\n",
    "   "
   ]
  },
  {
   "cell_type": "code",
   "execution_count": 130,
   "id": "ba9b2de1",
   "metadata": {},
   "outputs": [],
   "source": [
    "final_train = np.array(final_train_data)\n",
    "final_target_train = np.array(final_target_train)"
   ]
  },
  {
   "cell_type": "code",
   "execution_count": 132,
   "id": "3ef2d250",
   "metadata": {},
   "outputs": [
    {
     "name": "stdout",
     "output_type": "stream",
     "text": [
      "/users/ananyabarthakur/Desktop/Augmented_Data/Slide_11/11_1.png\n",
      "/users/ananyabarthakur/Desktop/Augmented_Data/Slide_11/11_2.png\n",
      "/users/ananyabarthakur/Desktop/Augmented_Data/Slide_11/11_3.png\n",
      "/users/ananyabarthakur/Desktop/Augmented_Data/Slide_11/11_4.png\n",
      "/users/ananyabarthakur/Desktop/Augmented_Data/Slide_11/11_5.png\n",
      "/users/ananyabarthakur/Desktop/Augmented_Data/Slide_11/11_6.png\n",
      "/users/ananyabarthakur/Desktop/Augmented_Data/Slide_11/11_7.png\n",
      "/users/ananyabarthakur/Desktop/Augmented_Data/Slide_11/11_8.png\n",
      "/users/ananyabarthakur/Desktop/Augmented_Data/Slide_11/11_9.png\n",
      "/users/ananyabarthakur/Desktop/Augmented_Data/Slide_11/11_10.png\n",
      "/users/ananyabarthakur/Desktop/Augmented_Data/Slide_11/11_11.png\n",
      "/users/ananyabarthakur/Desktop/Augmented_Data/Slide_11/11_12.png\n",
      "/users/ananyabarthakur/Desktop/Augmented_Data/Slide_11/11_13.png\n",
      "/users/ananyabarthakur/Desktop/Augmented_Data/Slide_11/11_14.png\n",
      "/users/ananyabarthakur/Desktop/Augmented_Data/Slide_11/11_15.png\n"
     ]
    }
   ],
   "source": [
    "import numpy as np\n",
    "import matplotlib.pyplot as plt\n",
    "from PIL import Image\n",
    "\n",
    "for index,img in enumerate(final_train, start = 1):\n",
    "    im = Image.fromarray((img * 255).astype(np.uint8))\n",
    "    \n",
    "    filename = '/users/ananyabarthakur/Desktop/Augmented_Data/Slide_11/11_'+ str(index)+ '.png'\n",
    "    print (filename)\n",
    "    im.save(filename)"
   ]
  },
  {
   "cell_type": "code",
   "execution_count": 133,
   "id": "7d391a59",
   "metadata": {},
   "outputs": [
    {
     "name": "stdout",
     "output_type": "stream",
     "text": [
      "/users/ananyabarthakur/Desktop/Augmented_Data/GT_11/11_1.png\n",
      "/users/ananyabarthakur/Desktop/Augmented_Data/GT_11/11_2.png\n",
      "/users/ananyabarthakur/Desktop/Augmented_Data/GT_11/11_3.png\n",
      "/users/ananyabarthakur/Desktop/Augmented_Data/GT_11/11_4.png\n",
      "/users/ananyabarthakur/Desktop/Augmented_Data/GT_11/11_5.png\n",
      "/users/ananyabarthakur/Desktop/Augmented_Data/GT_11/11_6.png\n",
      "/users/ananyabarthakur/Desktop/Augmented_Data/GT_11/11_7.png\n",
      "/users/ananyabarthakur/Desktop/Augmented_Data/GT_11/11_8.png\n",
      "/users/ananyabarthakur/Desktop/Augmented_Data/GT_11/11_9.png\n",
      "/users/ananyabarthakur/Desktop/Augmented_Data/GT_11/11_10.png\n",
      "/users/ananyabarthakur/Desktop/Augmented_Data/GT_11/11_11.png\n",
      "/users/ananyabarthakur/Desktop/Augmented_Data/GT_11/11_12.png\n",
      "/users/ananyabarthakur/Desktop/Augmented_Data/GT_11/11_13.png\n",
      "/users/ananyabarthakur/Desktop/Augmented_Data/GT_11/11_14.png\n",
      "/users/ananyabarthakur/Desktop/Augmented_Data/GT_11/11_15.png\n"
     ]
    }
   ],
   "source": [
    "for index,img in enumerate(final_target_train, start = 1):\n",
    "    im = Image.fromarray((img * 255).astype(np.uint8))\n",
    "    \n",
    "    filename = '/users/ananyabarthakur/Desktop/Augmented_Data/GT_11/11_'+ str(index)+ '.png'\n",
    "    print (filename)\n",
    "    im.save(filename)"
   ]
  },
  {
   "cell_type": "code",
   "execution_count": null,
   "id": "b204b6fa",
   "metadata": {},
   "outputs": [],
   "source": []
  }
 ],
 "metadata": {
  "kernelspec": {
   "display_name": "Python 3 (ipykernel)",
   "language": "python",
   "name": "python3"
  },
  "language_info": {
   "codemirror_mode": {
    "name": "ipython",
    "version": 3
   },
   "file_extension": ".py",
   "mimetype": "text/x-python",
   "name": "python",
   "nbconvert_exporter": "python",
   "pygments_lexer": "ipython3",
   "version": "3.9.7"
  }
 },
 "nbformat": 4,
 "nbformat_minor": 5
}
